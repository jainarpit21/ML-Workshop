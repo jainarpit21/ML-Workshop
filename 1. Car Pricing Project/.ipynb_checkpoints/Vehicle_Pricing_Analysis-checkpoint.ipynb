{
 "cells": [
  {
   "cell_type": "code",
   "execution_count": 1,
   "id": "f4d0f506-90e5-452d-a56b-1b7e6e4d315b",
   "metadata": {},
   "outputs": [
    {
     "name": "stderr",
     "output_type": "stream",
     "text": [
      "C:\\Users\\jaina\\anaconda3\\lib\\site-packages\\pandas\\core\\computation\\expressions.py:21: UserWarning: Pandas requires version '2.8.4' or newer of 'numexpr' (version '2.8.1' currently installed).\n",
      "  from pandas.core.computation.check import NUMEXPR_INSTALLED\n",
      "C:\\Users\\jaina\\anaconda3\\lib\\site-packages\\pandas\\core\\arrays\\masked.py:60: UserWarning: Pandas requires version '1.3.6' or newer of 'bottleneck' (version '1.3.4' currently installed).\n",
      "  from pandas.core import (\n"
     ]
    }
   ],
   "source": [
    "import pandas as pd\n",
    "import numpy as np\n",
    "import seaborn as sns\n",
    "import matplotlib.pyplot as plt\n",
    "import warnings\n",
    "\n",
    "from sklearn.linear_model import LinearRegression\n",
    "from sklearn.tree import DecisionTreeRegressor\n",
    "from sklearn.ensemble import RandomForestRegressor\n",
    "from sklearn.linear_model import BayesianRidge\n",
    "from sklearn.experimental import enable_iterative_imputer\n",
    "from sklearn.impute import IterativeImputer\n",
    "from sklearn.preprocessing import StandardScaler\n",
    "from sklearn.metrics import mean_absolute_error,r2_score\n",
    "import xgboost as xgb\n",
    "from sklearn.preprocessing import LabelEncoder\n",
    "from sklearn.model_selection import train_test_split\n",
    "\n",
    "warnings.filterwarnings('ignore')"
   ]
  },
  {
   "cell_type": "code",
   "execution_count": 2,
   "id": "52f82764-cf8a-4f5d-b3b8-e6532eea09a1",
   "metadata": {},
   "outputs": [],
   "source": [
    "df = pd.read_csv('cars_data.csv')"
   ]
  },
  {
   "cell_type": "code",
   "execution_count": 3,
   "id": "8dede72e-5ece-46eb-b8ac-11b80745df4d",
   "metadata": {
    "scrolled": true
   },
   "outputs": [
    {
     "data": {
      "text/html": [
       "<div>\n",
       "<style scoped>\n",
       "    .dataframe tbody tr th:only-of-type {\n",
       "        vertical-align: middle;\n",
       "    }\n",
       "\n",
       "    .dataframe tbody tr th {\n",
       "        vertical-align: top;\n",
       "    }\n",
       "\n",
       "    .dataframe thead th {\n",
       "        text-align: right;\n",
       "    }\n",
       "</style>\n",
       "<table border=\"1\" class=\"dataframe\">\n",
       "  <thead>\n",
       "    <tr style=\"text-align: right;\">\n",
       "      <th></th>\n",
       "      <th>url</th>\n",
       "      <th>city</th>\n",
       "      <th>city_url</th>\n",
       "      <th>price</th>\n",
       "      <th>year</th>\n",
       "      <th>manufacturer</th>\n",
       "      <th>make</th>\n",
       "      <th>condition</th>\n",
       "      <th>cylinders</th>\n",
       "      <th>fuel</th>\n",
       "      <th>...</th>\n",
       "      <th>transmission</th>\n",
       "      <th>VIN</th>\n",
       "      <th>drive</th>\n",
       "      <th>size</th>\n",
       "      <th>type</th>\n",
       "      <th>paint_color</th>\n",
       "      <th>image_url</th>\n",
       "      <th>desc</th>\n",
       "      <th>lat</th>\n",
       "      <th>long</th>\n",
       "    </tr>\n",
       "  </thead>\n",
       "  <tbody>\n",
       "    <tr>\n",
       "      <th>0</th>\n",
       "      <td>https://grandrapids.craigslist.org/cto/d/hasti...</td>\n",
       "      <td>grand rapids, MI</td>\n",
       "      <td>https://grandrapids.craigslist.org</td>\n",
       "      <td>1500</td>\n",
       "      <td>2006.0</td>\n",
       "      <td>cadillac</td>\n",
       "      <td>cts</td>\n",
       "      <td>good</td>\n",
       "      <td>6 cylinders</td>\n",
       "      <td>gas</td>\n",
       "      <td>...</td>\n",
       "      <td>automatic</td>\n",
       "      <td>NaN</td>\n",
       "      <td>rwd</td>\n",
       "      <td>mid-size</td>\n",
       "      <td>coupe</td>\n",
       "      <td>blue</td>\n",
       "      <td>https://images.craigslist.org/00K0K_a9CZoZg2U8...</td>\n",
       "      <td>2006 CtS Leather, Runs and drives Good.236k mil</td>\n",
       "      <td>42.643000</td>\n",
       "      <td>-85.293700</td>\n",
       "    </tr>\n",
       "    <tr>\n",
       "      <th>1</th>\n",
       "      <td>https://grandrapids.craigslist.org/cto/d/grand...</td>\n",
       "      <td>grand rapids, MI</td>\n",
       "      <td>https://grandrapids.craigslist.org</td>\n",
       "      <td>8900</td>\n",
       "      <td>2009.0</td>\n",
       "      <td>lincoln</td>\n",
       "      <td>mkx</td>\n",
       "      <td>NaN</td>\n",
       "      <td>NaN</td>\n",
       "      <td>gas</td>\n",
       "      <td>...</td>\n",
       "      <td>automatic</td>\n",
       "      <td>NaN</td>\n",
       "      <td>NaN</td>\n",
       "      <td>NaN</td>\n",
       "      <td>NaN</td>\n",
       "      <td>NaN</td>\n",
       "      <td>https://images.craigslist.org/00a0a_9B4kPBDIWd...</td>\n",
       "      <td>Selling our loaded 2009 Lincoln MKX with 119,0...</td>\n",
       "      <td>42.973700</td>\n",
       "      <td>-85.726500</td>\n",
       "    </tr>\n",
       "    <tr>\n",
       "      <th>2</th>\n",
       "      <td>https://grandrapids.craigslist.org/ctd/d/chesa...</td>\n",
       "      <td>grand rapids, MI</td>\n",
       "      <td>https://grandrapids.craigslist.org</td>\n",
       "      <td>7995</td>\n",
       "      <td>2010.0</td>\n",
       "      <td>cadillac</td>\n",
       "      <td>srx premium collection</td>\n",
       "      <td>NaN</td>\n",
       "      <td>NaN</td>\n",
       "      <td>gas</td>\n",
       "      <td>...</td>\n",
       "      <td>automatic</td>\n",
       "      <td>3GYFNCEYXAS552363</td>\n",
       "      <td>NaN</td>\n",
       "      <td>NaN</td>\n",
       "      <td>NaN</td>\n",
       "      <td>NaN</td>\n",
       "      <td>https://images.craigslist.org/00X0X_8i0VRuk7Cv...</td>\n",
       "      <td>WE HAVE OVER 400 VEHICLES IN STOCK!\\n\\n View O...</td>\n",
       "      <td>43.186723</td>\n",
       "      <td>-84.163862</td>\n",
       "    </tr>\n",
       "    <tr>\n",
       "      <th>3</th>\n",
       "      <td>https://grandrapids.craigslist.org/ctd/d/chesa...</td>\n",
       "      <td>grand rapids, MI</td>\n",
       "      <td>https://grandrapids.craigslist.org</td>\n",
       "      <td>6995</td>\n",
       "      <td>2007.0</td>\n",
       "      <td>NaN</td>\n",
       "      <td>hummer h3 4dr 4wd suv</td>\n",
       "      <td>NaN</td>\n",
       "      <td>NaN</td>\n",
       "      <td>gas</td>\n",
       "      <td>...</td>\n",
       "      <td>automatic</td>\n",
       "      <td>5GTDN13E478107380</td>\n",
       "      <td>NaN</td>\n",
       "      <td>NaN</td>\n",
       "      <td>NaN</td>\n",
       "      <td>NaN</td>\n",
       "      <td>https://images.craigslist.org/00b0b_ahkmUzr4cE...</td>\n",
       "      <td>WE HAVE OVER 400 VEHICLES IN STOCK!\\n\\n View O...</td>\n",
       "      <td>43.186723</td>\n",
       "      <td>-84.163862</td>\n",
       "    </tr>\n",
       "    <tr>\n",
       "      <th>4</th>\n",
       "      <td>https://grandrapids.craigslist.org/ctd/d/caled...</td>\n",
       "      <td>grand rapids, MI</td>\n",
       "      <td>https://grandrapids.craigslist.org</td>\n",
       "      <td>20990</td>\n",
       "      <td>2010.0</td>\n",
       "      <td>ram</td>\n",
       "      <td>2500</td>\n",
       "      <td>excellent</td>\n",
       "      <td>6 cylinders</td>\n",
       "      <td>diesel</td>\n",
       "      <td>...</td>\n",
       "      <td>automatic</td>\n",
       "      <td>3D7UT2CL4AG113236</td>\n",
       "      <td>4wd</td>\n",
       "      <td>NaN</td>\n",
       "      <td>NaN</td>\n",
       "      <td>white</td>\n",
       "      <td>https://images.craigslist.org/00505_3DHY0kFrgb...</td>\n",
       "      <td>Great looking 2010 Ram 2500 ST w/6.7L 24V I6 4...</td>\n",
       "      <td>42.783714</td>\n",
       "      <td>-85.506777</td>\n",
       "    </tr>\n",
       "  </tbody>\n",
       "</table>\n",
       "<p>5 rows × 22 columns</p>\n",
       "</div>"
      ],
      "text/plain": [
       "                                                 url              city  \\\n",
       "0  https://grandrapids.craigslist.org/cto/d/hasti...  grand rapids, MI   \n",
       "1  https://grandrapids.craigslist.org/cto/d/grand...  grand rapids, MI   \n",
       "2  https://grandrapids.craigslist.org/ctd/d/chesa...  grand rapids, MI   \n",
       "3  https://grandrapids.craigslist.org/ctd/d/chesa...  grand rapids, MI   \n",
       "4  https://grandrapids.craigslist.org/ctd/d/caled...  grand rapids, MI   \n",
       "\n",
       "                             city_url  price    year manufacturer  \\\n",
       "0  https://grandrapids.craigslist.org   1500  2006.0     cadillac   \n",
       "1  https://grandrapids.craigslist.org   8900  2009.0      lincoln   \n",
       "2  https://grandrapids.craigslist.org   7995  2010.0     cadillac   \n",
       "3  https://grandrapids.craigslist.org   6995  2007.0          NaN   \n",
       "4  https://grandrapids.craigslist.org  20990  2010.0          ram   \n",
       "\n",
       "                     make  condition    cylinders    fuel  ...  transmission  \\\n",
       "0                     cts       good  6 cylinders     gas  ...     automatic   \n",
       "1                     mkx        NaN          NaN     gas  ...     automatic   \n",
       "2  srx premium collection        NaN          NaN     gas  ...     automatic   \n",
       "3   hummer h3 4dr 4wd suv        NaN          NaN     gas  ...     automatic   \n",
       "4                    2500  excellent  6 cylinders  diesel  ...     automatic   \n",
       "\n",
       "                 VIN drive      size   type paint_color  \\\n",
       "0                NaN   rwd  mid-size  coupe        blue   \n",
       "1                NaN   NaN       NaN    NaN         NaN   \n",
       "2  3GYFNCEYXAS552363   NaN       NaN    NaN         NaN   \n",
       "3  5GTDN13E478107380   NaN       NaN    NaN         NaN   \n",
       "4  3D7UT2CL4AG113236   4wd       NaN    NaN       white   \n",
       "\n",
       "                                           image_url  \\\n",
       "0  https://images.craigslist.org/00K0K_a9CZoZg2U8...   \n",
       "1  https://images.craigslist.org/00a0a_9B4kPBDIWd...   \n",
       "2  https://images.craigslist.org/00X0X_8i0VRuk7Cv...   \n",
       "3  https://images.craigslist.org/00b0b_ahkmUzr4cE...   \n",
       "4  https://images.craigslist.org/00505_3DHY0kFrgb...   \n",
       "\n",
       "                                                desc        lat       long  \n",
       "0    2006 CtS Leather, Runs and drives Good.236k mil  42.643000 -85.293700  \n",
       "1  Selling our loaded 2009 Lincoln MKX with 119,0...  42.973700 -85.726500  \n",
       "2  WE HAVE OVER 400 VEHICLES IN STOCK!\\n\\n View O...  43.186723 -84.163862  \n",
       "3  WE HAVE OVER 400 VEHICLES IN STOCK!\\n\\n View O...  43.186723 -84.163862  \n",
       "4  Great looking 2010 Ram 2500 ST w/6.7L 24V I6 4...  42.783714 -85.506777  \n",
       "\n",
       "[5 rows x 22 columns]"
      ]
     },
     "execution_count": 3,
     "metadata": {},
     "output_type": "execute_result"
    }
   ],
   "source": [
    "df.head()"
   ]
  },
  {
   "cell_type": "code",
   "execution_count": 5,
   "id": "e91ab812",
   "metadata": {},
   "outputs": [
    {
     "data": {
      "text/plain": [
       "(25000, 22)"
      ]
     },
     "execution_count": 5,
     "metadata": {},
     "output_type": "execute_result"
    }
   ],
   "source": [
    "df.shape"
   ]
  },
  {
   "cell_type": "code",
   "execution_count": 4,
   "id": "1bd5a13e-79d0-4903-a6a6-7d0008fddb72",
   "metadata": {},
   "outputs": [
    {
     "data": {
      "text/plain": [
       "url                 0\n",
       "city                0\n",
       "city_url            0\n",
       "price               0\n",
       "year               52\n",
       "manufacturer     1214\n",
       "make              367\n",
       "condition       10817\n",
       "cylinders        9625\n",
       "fuel              165\n",
       "odometer         4911\n",
       "title_status       59\n",
       "transmission      171\n",
       "VIN             10324\n",
       "drive            7194\n",
       "size            16953\n",
       "type             7248\n",
       "paint_color      8054\n",
       "image_url           1\n",
       "desc                1\n",
       "lat               901\n",
       "long              901\n",
       "dtype: int64"
      ]
     },
     "execution_count": 4,
     "metadata": {},
     "output_type": "execute_result"
    }
   ],
   "source": [
    "## missing value check \n",
    "df.isna().sum()"
   ]
  },
  {
   "cell_type": "code",
   "execution_count": 6,
   "id": "da1dd6fb-a991-4e9b-b097-ead5a6bb9846",
   "metadata": {},
   "outputs": [
    {
     "data": {
      "text/plain": [
       "(25000, 22)"
      ]
     },
     "execution_count": 6,
     "metadata": {},
     "output_type": "execute_result"
    }
   ],
   "source": [
    "df.shape"
   ]
  },
  {
   "cell_type": "code",
   "execution_count": 7,
   "id": "d3844e64-2b06-47a0-9339-08d23c39901a",
   "metadata": {},
   "outputs": [
    {
     "data": {
      "text/plain": [
       "Index(['url', 'city', 'city_url', 'price', 'year', 'manufacturer', 'make',\n",
       "       'condition', 'cylinders', 'fuel', 'odometer', 'title_status',\n",
       "       'transmission', 'VIN', 'drive', 'size', 'type', 'paint_color',\n",
       "       'image_url', 'desc', 'lat', 'long'],\n",
       "      dtype='object')"
      ]
     },
     "execution_count": 7,
     "metadata": {},
     "output_type": "execute_result"
    }
   ],
   "source": [
    "df.columns"
   ]
  },
  {
   "cell_type": "code",
   "execution_count": 8,
   "id": "f3f0cab4-6e1c-46fd-bb5a-17db5072e92f",
   "metadata": {},
   "outputs": [
    {
     "data": {
      "text/html": [
       "<div>\n",
       "<style scoped>\n",
       "    .dataframe tbody tr th:only-of-type {\n",
       "        vertical-align: middle;\n",
       "    }\n",
       "\n",
       "    .dataframe tbody tr th {\n",
       "        vertical-align: top;\n",
       "    }\n",
       "\n",
       "    .dataframe thead th {\n",
       "        text-align: right;\n",
       "    }\n",
       "</style>\n",
       "<table border=\"1\" class=\"dataframe\">\n",
       "  <thead>\n",
       "    <tr style=\"text-align: right;\">\n",
       "      <th></th>\n",
       "      <th>city</th>\n",
       "      <th>price</th>\n",
       "      <th>year</th>\n",
       "      <th>manufacturer</th>\n",
       "      <th>make</th>\n",
       "      <th>condition</th>\n",
       "      <th>cylinders</th>\n",
       "      <th>fuel</th>\n",
       "      <th>odometer</th>\n",
       "      <th>title_status</th>\n",
       "      <th>transmission</th>\n",
       "      <th>drive</th>\n",
       "      <th>size</th>\n",
       "      <th>type</th>\n",
       "      <th>paint_color</th>\n",
       "      <th>lat</th>\n",
       "      <th>long</th>\n",
       "    </tr>\n",
       "  </thead>\n",
       "  <tbody>\n",
       "    <tr>\n",
       "      <th>0</th>\n",
       "      <td>grand rapids, MI</td>\n",
       "      <td>1500</td>\n",
       "      <td>2006.0</td>\n",
       "      <td>cadillac</td>\n",
       "      <td>cts</td>\n",
       "      <td>good</td>\n",
       "      <td>6 cylinders</td>\n",
       "      <td>gas</td>\n",
       "      <td>236000.0</td>\n",
       "      <td>clean</td>\n",
       "      <td>automatic</td>\n",
       "      <td>rwd</td>\n",
       "      <td>mid-size</td>\n",
       "      <td>coupe</td>\n",
       "      <td>blue</td>\n",
       "      <td>42.643000</td>\n",
       "      <td>-85.293700</td>\n",
       "    </tr>\n",
       "    <tr>\n",
       "      <th>1</th>\n",
       "      <td>grand rapids, MI</td>\n",
       "      <td>8900</td>\n",
       "      <td>2009.0</td>\n",
       "      <td>lincoln</td>\n",
       "      <td>mkx</td>\n",
       "      <td>NaN</td>\n",
       "      <td>NaN</td>\n",
       "      <td>gas</td>\n",
       "      <td>119000.0</td>\n",
       "      <td>clean</td>\n",
       "      <td>automatic</td>\n",
       "      <td>NaN</td>\n",
       "      <td>NaN</td>\n",
       "      <td>NaN</td>\n",
       "      <td>NaN</td>\n",
       "      <td>42.973700</td>\n",
       "      <td>-85.726500</td>\n",
       "    </tr>\n",
       "    <tr>\n",
       "      <th>2</th>\n",
       "      <td>grand rapids, MI</td>\n",
       "      <td>7995</td>\n",
       "      <td>2010.0</td>\n",
       "      <td>cadillac</td>\n",
       "      <td>srx premium collection</td>\n",
       "      <td>NaN</td>\n",
       "      <td>NaN</td>\n",
       "      <td>gas</td>\n",
       "      <td>129105.0</td>\n",
       "      <td>clean</td>\n",
       "      <td>automatic</td>\n",
       "      <td>NaN</td>\n",
       "      <td>NaN</td>\n",
       "      <td>NaN</td>\n",
       "      <td>NaN</td>\n",
       "      <td>43.186723</td>\n",
       "      <td>-84.163862</td>\n",
       "    </tr>\n",
       "    <tr>\n",
       "      <th>3</th>\n",
       "      <td>grand rapids, MI</td>\n",
       "      <td>6995</td>\n",
       "      <td>2007.0</td>\n",
       "      <td>NaN</td>\n",
       "      <td>hummer h3 4dr 4wd suv</td>\n",
       "      <td>NaN</td>\n",
       "      <td>NaN</td>\n",
       "      <td>gas</td>\n",
       "      <td>164296.0</td>\n",
       "      <td>clean</td>\n",
       "      <td>automatic</td>\n",
       "      <td>NaN</td>\n",
       "      <td>NaN</td>\n",
       "      <td>NaN</td>\n",
       "      <td>NaN</td>\n",
       "      <td>43.186723</td>\n",
       "      <td>-84.163862</td>\n",
       "    </tr>\n",
       "    <tr>\n",
       "      <th>4</th>\n",
       "      <td>grand rapids, MI</td>\n",
       "      <td>20990</td>\n",
       "      <td>2010.0</td>\n",
       "      <td>ram</td>\n",
       "      <td>2500</td>\n",
       "      <td>excellent</td>\n",
       "      <td>6 cylinders</td>\n",
       "      <td>diesel</td>\n",
       "      <td>123213.0</td>\n",
       "      <td>clean</td>\n",
       "      <td>automatic</td>\n",
       "      <td>4wd</td>\n",
       "      <td>NaN</td>\n",
       "      <td>NaN</td>\n",
       "      <td>white</td>\n",
       "      <td>42.783714</td>\n",
       "      <td>-85.506777</td>\n",
       "    </tr>\n",
       "  </tbody>\n",
       "</table>\n",
       "</div>"
      ],
      "text/plain": [
       "               city  price    year manufacturer                    make  \\\n",
       "0  grand rapids, MI   1500  2006.0     cadillac                     cts   \n",
       "1  grand rapids, MI   8900  2009.0      lincoln                     mkx   \n",
       "2  grand rapids, MI   7995  2010.0     cadillac  srx premium collection   \n",
       "3  grand rapids, MI   6995  2007.0          NaN   hummer h3 4dr 4wd suv   \n",
       "4  grand rapids, MI  20990  2010.0          ram                    2500   \n",
       "\n",
       "   condition    cylinders    fuel  odometer title_status transmission drive  \\\n",
       "0       good  6 cylinders     gas  236000.0        clean    automatic   rwd   \n",
       "1        NaN          NaN     gas  119000.0        clean    automatic   NaN   \n",
       "2        NaN          NaN     gas  129105.0        clean    automatic   NaN   \n",
       "3        NaN          NaN     gas  164296.0        clean    automatic   NaN   \n",
       "4  excellent  6 cylinders  diesel  123213.0        clean    automatic   4wd   \n",
       "\n",
       "       size   type paint_color        lat       long  \n",
       "0  mid-size  coupe        blue  42.643000 -85.293700  \n",
       "1       NaN    NaN         NaN  42.973700 -85.726500  \n",
       "2       NaN    NaN         NaN  43.186723 -84.163862  \n",
       "3       NaN    NaN         NaN  43.186723 -84.163862  \n",
       "4       NaN    NaN       white  42.783714 -85.506777  "
      ]
     },
     "execution_count": 8,
     "metadata": {},
     "output_type": "execute_result"
    }
   ],
   "source": [
    "# removing irrelevant features\n",
    "df2=df.copy()\n",
    "df2=df2.drop(columns=['url','city_url','VIN','image_url','desc'])\n",
    "df2.head()"
   ]
  },
  {
   "cell_type": "code",
   "execution_count": 9,
   "id": "4ac49a67-1286-4aa8-98e7-1530d63c0fe1",
   "metadata": {},
   "outputs": [
    {
     "name": "stdout",
     "output_type": "stream",
     "text": [
      "<class 'pandas.core.frame.DataFrame'>\n",
      "RangeIndex: 25000 entries, 0 to 24999\n",
      "Data columns (total 17 columns):\n",
      " #   Column        Non-Null Count  Dtype  \n",
      "---  ------        --------------  -----  \n",
      " 0   city          25000 non-null  object \n",
      " 1   price         25000 non-null  int64  \n",
      " 2   year          24948 non-null  float64\n",
      " 3   manufacturer  23786 non-null  object \n",
      " 4   make          24633 non-null  object \n",
      " 5   condition     14183 non-null  object \n",
      " 6   cylinders     15375 non-null  object \n",
      " 7   fuel          24835 non-null  object \n",
      " 8   odometer      20089 non-null  float64\n",
      " 9   title_status  24941 non-null  object \n",
      " 10  transmission  24829 non-null  object \n",
      " 11  drive         17806 non-null  object \n",
      " 12  size          8047 non-null   object \n",
      " 13  type          17752 non-null  object \n",
      " 14  paint_color   16946 non-null  object \n",
      " 15  lat           24099 non-null  float64\n",
      " 16  long          24099 non-null  float64\n",
      "dtypes: float64(4), int64(1), object(12)\n",
      "memory usage: 3.2+ MB\n"
     ]
    }
   ],
   "source": [
    "df2.info()"
   ]
  },
  {
   "cell_type": "code",
   "execution_count": 10,
   "id": "81c26b68-d6ec-48a7-9fc2-f7d36ce4bf7e",
   "metadata": {},
   "outputs": [],
   "source": [
    "#separating numeric variable and categorical variable \n",
    "num_col=['year','odometer','lat','long']\n",
    "cat_cols=['city','manufacturer','make','condition','cylinders','fuel','title_status','transmission','drive','size','type','paint_color']"
   ]
  },
  {
   "cell_type": "code",
   "execution_count": 11,
   "id": "5346f69c-c26f-43e4-be98-175f7fc15556",
   "metadata": {},
   "outputs": [
    {
     "data": {
      "text/plain": [
       "year          52\n",
       "odometer    4911\n",
       "lat          901\n",
       "long         901\n",
       "dtype: int64"
      ]
     },
     "execution_count": 11,
     "metadata": {},
     "output_type": "execute_result"
    }
   ],
   "source": [
    "df2.isnull().sum()[num_col]"
   ]
  },
  {
   "cell_type": "code",
   "execution_count": 13,
   "id": "b2eae026",
   "metadata": {},
   "outputs": [],
   "source": [
    "pd.set_option('display.float_format', lambda x: '%.3f' % x)"
   ]
  },
  {
   "cell_type": "code",
   "execution_count": 14,
   "id": "776ee65a-c3f5-4112-b5ac-ad801a552fa8",
   "metadata": {},
   "outputs": [
    {
     "data": {
      "text/html": [
       "<div>\n",
       "<style scoped>\n",
       "    .dataframe tbody tr th:only-of-type {\n",
       "        vertical-align: middle;\n",
       "    }\n",
       "\n",
       "    .dataframe tbody tr th {\n",
       "        vertical-align: top;\n",
       "    }\n",
       "\n",
       "    .dataframe thead th {\n",
       "        text-align: right;\n",
       "    }\n",
       "</style>\n",
       "<table border=\"1\" class=\"dataframe\">\n",
       "  <thead>\n",
       "    <tr style=\"text-align: right;\">\n",
       "      <th></th>\n",
       "      <th>price</th>\n",
       "      <th>year</th>\n",
       "      <th>odometer</th>\n",
       "      <th>lat</th>\n",
       "      <th>long</th>\n",
       "    </tr>\n",
       "  </thead>\n",
       "  <tbody>\n",
       "    <tr>\n",
       "      <th>count</th>\n",
       "      <td>25000.000</td>\n",
       "      <td>24948.000</td>\n",
       "      <td>20089.000</td>\n",
       "      <td>24099.000</td>\n",
       "      <td>24099.000</td>\n",
       "    </tr>\n",
       "    <tr>\n",
       "      <th>mean</th>\n",
       "      <td>12872.364</td>\n",
       "      <td>2009.193</td>\n",
       "      <td>104764.503</td>\n",
       "      <td>39.125</td>\n",
       "      <td>-88.546</td>\n",
       "    </tr>\n",
       "    <tr>\n",
       "      <th>std</th>\n",
       "      <td>78194.974</td>\n",
       "      <td>9.314</td>\n",
       "      <td>139501.459</td>\n",
       "      <td>5.490</td>\n",
       "      <td>14.409</td>\n",
       "    </tr>\n",
       "    <tr>\n",
       "      <th>min</th>\n",
       "      <td>0.000</td>\n",
       "      <td>1900.000</td>\n",
       "      <td>0.000</td>\n",
       "      <td>-83.082</td>\n",
       "      <td>-160.675</td>\n",
       "    </tr>\n",
       "    <tr>\n",
       "      <th>25%</th>\n",
       "      <td>3600.000</td>\n",
       "      <td>2006.000</td>\n",
       "      <td>50397.000</td>\n",
       "      <td>35.688</td>\n",
       "      <td>-90.667</td>\n",
       "    </tr>\n",
       "    <tr>\n",
       "      <th>50%</th>\n",
       "      <td>8995.000</td>\n",
       "      <td>2011.000</td>\n",
       "      <td>96568.000</td>\n",
       "      <td>40.060</td>\n",
       "      <td>-85.662</td>\n",
       "    </tr>\n",
       "    <tr>\n",
       "      <th>75%</th>\n",
       "      <td>17966.500</td>\n",
       "      <td>2015.000</td>\n",
       "      <td>142000.000</td>\n",
       "      <td>42.448</td>\n",
       "      <td>-79.820</td>\n",
       "    </tr>\n",
       "    <tr>\n",
       "      <th>max</th>\n",
       "      <td>11111111.000</td>\n",
       "      <td>2020.000</td>\n",
       "      <td>10000000.000</td>\n",
       "      <td>71.525</td>\n",
       "      <td>3.503</td>\n",
       "    </tr>\n",
       "  </tbody>\n",
       "</table>\n",
       "</div>"
      ],
      "text/plain": [
       "             price      year     odometer       lat      long\n",
       "count    25000.000 24948.000    20089.000 24099.000 24099.000\n",
       "mean     12872.364  2009.193   104764.503    39.125   -88.546\n",
       "std      78194.974     9.314   139501.459     5.490    14.409\n",
       "min          0.000  1900.000        0.000   -83.082  -160.675\n",
       "25%       3600.000  2006.000    50397.000    35.688   -90.667\n",
       "50%       8995.000  2011.000    96568.000    40.060   -85.662\n",
       "75%      17966.500  2015.000   142000.000    42.448   -79.820\n",
       "max   11111111.000  2020.000 10000000.000    71.525     3.503"
      ]
     },
     "execution_count": 14,
     "metadata": {},
     "output_type": "execute_result"
    }
   ],
   "source": [
    "df2.describe()"
   ]
  },
  {
   "cell_type": "code",
   "execution_count": 15,
   "id": "7ec5d3f0-4a27-4cdc-a03e-49ebe841fe09",
   "metadata": {},
   "outputs": [],
   "source": [
    "# median imputation\n",
    "for col in num_col:\n",
    "    df2[col] = df2[col].fillna(df2[col].median())"
   ]
  },
  {
   "cell_type": "code",
   "execution_count": 16,
   "id": "44287d08-819d-4617-b3c8-44c9dc126325",
   "metadata": {},
   "outputs": [
    {
     "data": {
      "text/plain": [
       "year        0\n",
       "odometer    0\n",
       "lat         0\n",
       "long        0\n",
       "dtype: int64"
      ]
     },
     "execution_count": 16,
     "metadata": {},
     "output_type": "execute_result"
    }
   ],
   "source": [
    "df2.isnull().sum()[num_col]"
   ]
  },
  {
   "cell_type": "code",
   "execution_count": 17,
   "id": "28e1a18f-faa4-4381-b74b-0821ff0a3202",
   "metadata": {},
   "outputs": [
    {
     "data": {
      "text/plain": [
       "city                0\n",
       "manufacturer     1214\n",
       "make              367\n",
       "condition       10817\n",
       "cylinders        9625\n",
       "fuel              165\n",
       "title_status       59\n",
       "transmission      171\n",
       "drive            7194\n",
       "size            16953\n",
       "type             7248\n",
       "paint_color      8054\n",
       "dtype: int64"
      ]
     },
     "execution_count": 17,
     "metadata": {},
     "output_type": "execute_result"
    }
   ],
   "source": [
    "#Missing values before filling\n",
    "df2.isnull().sum()[cat_cols]"
   ]
  },
  {
   "cell_type": "code",
   "execution_count": 18,
   "id": "070690c6-4a32-463d-9272-a70dc5838299",
   "metadata": {},
   "outputs": [],
   "source": [
    "#function to label the categorical columns ignoring null values \n",
    "def encode(data):\n",
    "    #retains only non-null values\n",
    "    nonulls = np.array(data.dropna())\n",
    "    #reshapes the data for encoding\n",
    "    impute_reshape = nonulls.reshape(-1,1)\n",
    "    #encode date\n",
    "    impute_ordinal = encoder.fit_transform(impute_reshape)\n",
    "    #Assign back encoded values to non-null values\n",
    "    data.loc[data.notnull()] = np.squeeze(impute_ordinal)\n",
    "    return data"
   ]
  },
  {
   "cell_type": "code",
   "execution_count": 19,
   "id": "0b2e0d52-afe3-40cf-ba49-1a75f1723048",
   "metadata": {},
   "outputs": [],
   "source": [
    "data_cat=df2[cat_cols]\n",
    "encoder=LabelEncoder() # convert categorical labels into numerical values\n",
    "\n",
    "for columns in cat_cols:\n",
    "    encode(data_cat[columns])\n",
    "    imputer = IterativeImputer(BayesianRidge()) # it will iteratively impute missing values by predicting them based on the relationships with other columns\n",
    "    impute_data=imputer.fit_transform(data_cat[columns].values.reshape(-1, 1)) #reshaped into a 2D array\n",
    "    impute_data=impute_data.astype('int64')\n",
    "    impute_data = pd.DataFrame(impute_data)\n",
    "    impute_data =encoder.inverse_transform(impute_data.values.reshape(-1, 1)) #transformed back to their original categorical labels\n",
    "    data_cat[columns]=impute_data\n",
    "df2[cat_cols]=data_cat   "
   ]
  },
  {
   "cell_type": "code",
   "execution_count": 20,
   "id": "a118bcd9-3be1-4265-bb0c-d00e8368ffca",
   "metadata": {},
   "outputs": [
    {
     "data": {
      "text/plain": [
       "city            0\n",
       "price           0\n",
       "year            0\n",
       "manufacturer    0\n",
       "make            0\n",
       "condition       0\n",
       "cylinders       0\n",
       "fuel            0\n",
       "odometer        0\n",
       "title_status    0\n",
       "transmission    0\n",
       "drive           0\n",
       "size            0\n",
       "type            0\n",
       "paint_color     0\n",
       "lat             0\n",
       "long            0\n",
       "dtype: int64"
      ]
     },
     "execution_count": 20,
     "metadata": {},
     "output_type": "execute_result"
    }
   ],
   "source": [
    "df2.isna().sum()"
   ]
  },
  {
   "cell_type": "code",
   "execution_count": 21,
   "id": "2ef039ea-d2ad-4e39-a123-414cdb7aac3e",
   "metadata": {},
   "outputs": [
    {
     "data": {
      "image/png": "[encoded data removed]",
      "text/plain": [
       "<Figure size 432x288 with 1 Axes>"
      ]
     },
     "metadata": {
      "needs_background": "light"
     },
     "output_type": "display_data"
    },
    {
     "data": {
      "image/png": "[encoded data removed]",
      "text/plain": [
       "<Figure size 432x288 with 1 Axes>"
      ]
     },
     "metadata": {
      "needs_background": "light"
     },
     "output_type": "display_data"
    },
    {
     "data": {
      "image/png": "[encoded data removed]",
      "text/plain": [
       "<Figure size 432x288 with 1 Axes>"
      ]
     },
     "metadata": {
      "needs_background": "light"
     },
     "output_type": "display_data"
    },
    {
     "data": {
      "image/png": "[encoded data removed]",
      "text/plain": [
       "<Figure size 432x288 with 1 Axes>"
      ]
     },
     "metadata": {
      "needs_background": "light"
     },
     "output_type": "display_data"
    },
    {
     "data": {
      "image/png": "[encoded data removed]",
      "text/plain": [
       "<Figure size 432x288 with 1 Axes>"
      ]
     },
     "metadata": {
      "needs_background": "light"
     },
     "output_type": "display_data"
    }
   ],
   "source": [
    "cols = ['year','odometer','lat','long','price']\n",
    "for col in cols:\n",
    "    sns.boxplot(x=df2[col])\n",
    "    plt.xlabel(col)\n",
    "    plt.show()"
   ]
  },
  {
   "cell_type": "code",
   "execution_count": 22,
   "id": "a5b22224-2a16-4111-b7ac-f5894e4e6b83",
   "metadata": {},
   "outputs": [],
   "source": [
    "#it will return the range of the variables and the values outside this range will be outliers\n",
    "def outliers(arr,col):\n",
    "    x=sorted(arr[col].values.ravel())\n",
    "    L_25=25/100*(len(x)+1) #L_p where p=25%\n",
    "    i_p=int(str(L_25).split(\".\")[0])\n",
    "    f_p=int(str(L_25).split(\".\")[1])\n",
    "    q1=x[i_p]+f_p*(x[i_p+1]-x[i_p])\n",
    "    \n",
    "    L_75=75/100*(len(x)+1) #L_p where p=75%\n",
    "    i_p=int(str(L_75).split(\".\")[0])\n",
    "    f_p=int(str(L_75).split(\".\")[1])\n",
    "    q3=x[i_p]+f_p*(x[i_p+1]-x[i_p])\n",
    "    \n",
    "    #q1,q3=(arr[col].quantile([0.25,0.75]))\n",
    "    \n",
    "    IQR=q3-q1\n",
    "    x1=q1-1.5*IQR\n",
    "    x2=q3+1.5*IQR\n",
    "    return (x1,x2)"
   ]
  },
  {
   "cell_type": "code",
   "execution_count": 23,
   "id": "5c5ead87-5c81-4dd9-8ac4-d304c4d598d4",
   "metadata": {},
   "outputs": [
    {
     "name": "stdout",
     "output_type": "stream",
     "text": [
      "IQR of price = -18181.5 39902.5\n",
      "IQR of odometer = -32079.0 229465.0\n",
      "IQR of year = 1992.5 2028.5\n"
     ]
    }
   ],
   "source": [
    "#removing outliers \n",
    "df_new=df2.copy()\n",
    "out=np.array(['price','odometer','year'])\n",
    "for col in out:\n",
    "    o1,o2=outliers(df_new,col)\n",
    "    df_new=df_new[(df_new[col]>=o1) & (df_new[col]<=o2)]\n",
    "    print('IQR of',col,'=',o1,o2)"
   ]
  },
  {
   "cell_type": "code",
   "execution_count": 24,
   "id": "d08b8e17-a22e-4a3c-8a5c-16abe3d1abef",
   "metadata": {},
   "outputs": [
    {
     "data": {
      "image/png": "[encoded data removed]",
      "text/plain": [
       "<Figure size 432x288 with 1 Axes>"
      ]
     },
     "metadata": {
      "needs_background": "light"
     },
     "output_type": "display_data"
    },
    {
     "data": {
      "image/png": "[encoded data removed]",
      "text/plain": [
       "<Figure size 432x288 with 1 Axes>"
      ]
     },
     "metadata": {
      "needs_background": "light"
     },
     "output_type": "display_data"
    },
    {
     "data": {
      "image/png": "[encoded data removed]",
      "text/plain": [
       "<Figure size 432x288 with 1 Axes>"
      ]
     },
     "metadata": {
      "needs_background": "light"
     },
     "output_type": "display_data"
    },
    {
     "data": {
      "image/png": "[encoded data removed]",
      "text/plain": [
       "<Figure size 432x288 with 1 Axes>"
      ]
     },
     "metadata": {
      "needs_background": "light"
     },
     "output_type": "display_data"
    },
    {
     "data": {
      "image/png": "[encoded data removed]",
      "text/plain": [
       "<Figure size 432x288 with 1 Axes>"
      ]
     },
     "metadata": {
      "needs_background": "light"
     },
     "output_type": "display_data"
    }
   ],
   "source": [
    "cols = ['year','odometer','lat','long','price']\n",
    "for col in cols:\n",
    "    sns.boxplot(x=df_new[col])\n",
    "    plt.xlabel(col)\n",
    "    plt.show()"
   ]
  },
  {
   "cell_type": "code",
   "execution_count": 25,
   "id": "0484d7cd-58c9-4186-8198-1f6bf3073c42",
   "metadata": {},
   "outputs": [
    {
     "data": {
      "text/plain": [
       "(22874, 17)"
      ]
     },
     "execution_count": 25,
     "metadata": {},
     "output_type": "execute_result"
    }
   ],
   "source": [
    "df_new.shape"
   ]
  },
  {
   "cell_type": "code",
   "execution_count": 26,
   "id": "cb149ae3-3f0e-4da1-98ca-3ede3231af6e",
   "metadata": {},
   "outputs": [],
   "source": [
    "cols = ['year','odometer','lat','long','price']\n",
    "for col in cols:\n",
    "    Q1 = df_new[col].quantile(0.25)\n",
    "    Q3 = df_new[col].quantile(0.75)\n",
    "    IQR = Q3 - Q1\n",
    "    whisker_width = 1.5\n",
    "    lower_whisker = Q1 -(whisker_width*IQR)\n",
    "    upper_whisker = Q3 + whisker_width*IQR\n",
    "    df_new[col]=np.where(df_new[col]>upper_whisker,upper_whisker,np.where(df_new[col]<lower_whisker,lower_whisker,df_new[col]))"
   ]
  },
  {
   "cell_type": "code",
   "execution_count": 27,
   "id": "4b0276ee-bbb9-4fae-aa17-c0a9a32bb91c",
   "metadata": {},
   "outputs": [
    {
     "data": {
      "image/png": "[encoded data removed]",
      "text/plain": [
       "<Figure size 432x288 with 1 Axes>"
      ]
     },
     "metadata": {
      "needs_background": "light"
     },
     "output_type": "display_data"
    },
    {
     "data": {
      "image/png": "[encoded data removed]",
      "text/plain": [
       "<Figure size 432x288 with 1 Axes>"
      ]
     },
     "metadata": {
      "needs_background": "light"
     },
     "output_type": "display_data"
    },
    {
     "data": {
      "image/png": "[encoded data removed]",
      "text/plain": [
       "<Figure size 432x288 with 1 Axes>"
      ]
     },
     "metadata": {
      "needs_background": "light"
     },
     "output_type": "display_data"
    },
    {
     "data": {
      "image/png": "[encoded data removed]",
      "text/plain": [
       "<Figure size 432x288 with 1 Axes>"
      ]
     },
     "metadata": {
      "needs_background": "light"
     },
     "output_type": "display_data"
    },
    {
     "data": {
      "image/png": "[encoded data removed]",
      "text/plain": [
       "<Figure size 432x288 with 1 Axes>"
      ]
     },
     "metadata": {
      "needs_background": "light"
     },
     "output_type": "display_data"
    }
   ],
   "source": [
    "for col in cols:\n",
    "    sns.boxplot(x=df_new[col])\n",
    "    plt.xlabel(col)\n",
    "    plt.show()"
   ]
  },
  {
   "cell_type": "code",
   "execution_count": 28,
   "id": "4170d138-147a-4061-936e-30f87ccc7f8a",
   "metadata": {},
   "outputs": [
    {
     "data": {
      "text/html": [
       "<div>\n",
       "<style scoped>\n",
       "    .dataframe tbody tr th:only-of-type {\n",
       "        vertical-align: middle;\n",
       "    }\n",
       "\n",
       "    .dataframe tbody tr th {\n",
       "        vertical-align: top;\n",
       "    }\n",
       "\n",
       "    .dataframe thead th {\n",
       "        text-align: right;\n",
       "    }\n",
       "</style>\n",
       "<table border=\"1\" class=\"dataframe\">\n",
       "  <thead>\n",
       "    <tr style=\"text-align: right;\">\n",
       "      <th></th>\n",
       "      <th>city</th>\n",
       "      <th>price</th>\n",
       "      <th>year</th>\n",
       "      <th>manufacturer</th>\n",
       "      <th>condition</th>\n",
       "      <th>cylinders</th>\n",
       "      <th>fuel</th>\n",
       "      <th>odometer</th>\n",
       "      <th>title_status</th>\n",
       "      <th>transmission</th>\n",
       "      <th>drive</th>\n",
       "      <th>size</th>\n",
       "      <th>type</th>\n",
       "      <th>paint_color</th>\n",
       "    </tr>\n",
       "  </thead>\n",
       "  <tbody>\n",
       "    <tr>\n",
       "      <th>1</th>\n",
       "      <td>grand rapids, MI</td>\n",
       "      <td>8900.000</td>\n",
       "      <td>2009.000</td>\n",
       "      <td>lincoln</td>\n",
       "      <td>fair</td>\n",
       "      <td>5 cylinders</td>\n",
       "      <td>gas</td>\n",
       "      <td>119000.000</td>\n",
       "      <td>clean</td>\n",
       "      <td>automatic</td>\n",
       "      <td>4wd</td>\n",
       "      <td>full-size</td>\n",
       "      <td>offroad</td>\n",
       "      <td>grey</td>\n",
       "    </tr>\n",
       "    <tr>\n",
       "      <th>2</th>\n",
       "      <td>grand rapids, MI</td>\n",
       "      <td>7995.000</td>\n",
       "      <td>2010.000</td>\n",
       "      <td>cadillac</td>\n",
       "      <td>fair</td>\n",
       "      <td>5 cylinders</td>\n",
       "      <td>gas</td>\n",
       "      <td>129105.000</td>\n",
       "      <td>clean</td>\n",
       "      <td>automatic</td>\n",
       "      <td>4wd</td>\n",
       "      <td>full-size</td>\n",
       "      <td>offroad</td>\n",
       "      <td>grey</td>\n",
       "    </tr>\n",
       "    <tr>\n",
       "      <th>3</th>\n",
       "      <td>grand rapids, MI</td>\n",
       "      <td>6995.000</td>\n",
       "      <td>2007.000</td>\n",
       "      <td>hyundai</td>\n",
       "      <td>fair</td>\n",
       "      <td>5 cylinders</td>\n",
       "      <td>gas</td>\n",
       "      <td>164296.000</td>\n",
       "      <td>clean</td>\n",
       "      <td>automatic</td>\n",
       "      <td>4wd</td>\n",
       "      <td>full-size</td>\n",
       "      <td>offroad</td>\n",
       "      <td>grey</td>\n",
       "    </tr>\n",
       "    <tr>\n",
       "      <th>4</th>\n",
       "      <td>grand rapids, MI</td>\n",
       "      <td>20990.000</td>\n",
       "      <td>2010.000</td>\n",
       "      <td>ram</td>\n",
       "      <td>excellent</td>\n",
       "      <td>6 cylinders</td>\n",
       "      <td>diesel</td>\n",
       "      <td>123213.000</td>\n",
       "      <td>clean</td>\n",
       "      <td>automatic</td>\n",
       "      <td>4wd</td>\n",
       "      <td>full-size</td>\n",
       "      <td>offroad</td>\n",
       "      <td>white</td>\n",
       "    </tr>\n",
       "    <tr>\n",
       "      <th>7</th>\n",
       "      <td>grand rapids, MI</td>\n",
       "      <td>7995.000</td>\n",
       "      <td>2007.000</td>\n",
       "      <td>lexus</td>\n",
       "      <td>excellent</td>\n",
       "      <td>6 cylinders</td>\n",
       "      <td>gas</td>\n",
       "      <td>146111.000</td>\n",
       "      <td>clean</td>\n",
       "      <td>automatic</td>\n",
       "      <td>fwd</td>\n",
       "      <td>compact</td>\n",
       "      <td>sedan</td>\n",
       "      <td>white</td>\n",
       "    </tr>\n",
       "  </tbody>\n",
       "</table>\n",
       "</div>"
      ],
      "text/plain": [
       "               city     price     year manufacturer  condition    cylinders  \\\n",
       "1  grand rapids, MI  8900.000 2009.000      lincoln       fair  5 cylinders   \n",
       "2  grand rapids, MI  7995.000 2010.000     cadillac       fair  5 cylinders   \n",
       "3  grand rapids, MI  6995.000 2007.000      hyundai       fair  5 cylinders   \n",
       "4  grand rapids, MI 20990.000 2010.000          ram  excellent  6 cylinders   \n",
       "7  grand rapids, MI  7995.000 2007.000        lexus  excellent  6 cylinders   \n",
       "\n",
       "     fuel   odometer title_status transmission drive       size     type  \\\n",
       "1     gas 119000.000        clean    automatic   4wd  full-size  offroad   \n",
       "2     gas 129105.000        clean    automatic   4wd  full-size  offroad   \n",
       "3     gas 164296.000        clean    automatic   4wd  full-size  offroad   \n",
       "4  diesel 123213.000        clean    automatic   4wd  full-size  offroad   \n",
       "7     gas 146111.000        clean    automatic   fwd    compact    sedan   \n",
       "\n",
       "  paint_color  \n",
       "1        grey  \n",
       "2        grey  \n",
       "3        grey  \n",
       "4       white  \n",
       "7       white  "
      ]
     },
     "execution_count": 28,
     "metadata": {},
     "output_type": "execute_result"
    }
   ],
   "source": [
    "df_new.drop(['lat','long','make'],axis=1,inplace=True)\n",
    "df_new.head()"
   ]
  },
  {
   "cell_type": "code",
   "execution_count": 29,
   "id": "bd8786a1-9a69-4bc5-8e11-4567bb727fbe",
   "metadata": {},
   "outputs": [
    {
     "data": {
      "image/png": "[encoded data removed]",
      "text/plain": [
       "<Figure size 432x288 with 1 Axes>"
      ]
     },
     "metadata": {
      "needs_background": "light"
     },
     "output_type": "display_data"
    }
   ],
   "source": [
    "# Visualisation\n",
    "sns.distplot(df_new.price)\n",
    "plt.tight_layout()\n",
    "plt.title(\"Distribution of price\")\n",
    "plt.show()"
   ]
  },
  {
   "cell_type": "code",
   "execution_count": 30,
   "id": "cb101b82-512a-4d10-a5d2-6bf73b46410e",
   "metadata": {},
   "outputs": [
    {
     "data": {
      "image/png": "[encoded data removed]",
      "text/plain": [
       "<Figure size 360x360 with 1 Axes>"
      ]
     },
     "metadata": {
      "needs_background": "light"
     },
     "output_type": "display_data"
    }
   ],
   "source": [
    "fig,axs=plt.subplots()\n",
    "fig.set_size_inches(5,5)\n",
    "\n",
    "p1=sns.barplot(x='fuel',y='price',data=df_new,ax=axs)\n",
    "axs.set_title('Figure 1')\n",
    "\n",
    "plt.show()"
   ]
  },
  {
   "cell_type": "code",
   "execution_count": null,
   "id": "d7ce8e83-1ca4-4b75-87b3-7729b1c85730",
   "metadata": {},
   "outputs": [],
   "source": [
    "df_new.columns"
   ]
  },
  {
   "cell_type": "code",
   "execution_count": 31,
   "id": "499924c6-454a-4643-b1ac-19876d9de222",
   "metadata": {},
   "outputs": [
    {
     "data": {
      "image/png": "[encoded data removed]",
      "text/plain": [
       "<Figure size 720x360 with 1 Axes>"
      ]
     },
     "metadata": {
      "needs_background": "light"
     },
     "output_type": "display_data"
    }
   ],
   "source": [
    "plt.figure(figsize=(10,5))\n",
    "sns.barplot(x='fuel',y='price',hue='condition',data=df_new)\n",
    "plt.title('Figure 2')\n",
    "plt.savefig('Insight-Figure-2',dpi=None)\n",
    "plt.show()"
   ]
  },
  {
   "cell_type": "code",
   "execution_count": 32,
   "id": "b947d2ca-fe3f-42b9-a03c-45d142c6a974",
   "metadata": {},
   "outputs": [
    {
     "data": {
      "image/png": "[encoded data removed]",
      "text/plain": [
       "<Figure size 1440x720 with 1 Axes>"
      ]
     },
     "metadata": {
      "needs_background": "light"
     },
     "output_type": "display_data"
    }
   ],
   "source": [
    "fig,axs=plt.subplots(nrows=1)\n",
    "fig.set_size_inches(20,10)\n",
    "sns.barplot(x='year',y='price',data=df_new)\n",
    "\n",
    "plt.show()"
   ]
  },
  {
   "cell_type": "code",
   "execution_count": 33,
   "id": "0da8373d-8660-4b4f-88bb-a70b3780eb4b",
   "metadata": {},
   "outputs": [
    {
     "data": {
      "text/html": [
       "<div>\n",
       "<style scoped>\n",
       "    .dataframe tbody tr th:only-of-type {\n",
       "        vertical-align: middle;\n",
       "    }\n",
       "\n",
       "    .dataframe tbody tr th {\n",
       "        vertical-align: top;\n",
       "    }\n",
       "\n",
       "    .dataframe thead th {\n",
       "        text-align: right;\n",
       "    }\n",
       "</style>\n",
       "<table border=\"1\" class=\"dataframe\">\n",
       "  <thead>\n",
       "    <tr style=\"text-align: right;\">\n",
       "      <th></th>\n",
       "      <th>city</th>\n",
       "      <th>price</th>\n",
       "      <th>year</th>\n",
       "      <th>manufacturer</th>\n",
       "      <th>condition</th>\n",
       "      <th>cylinders</th>\n",
       "      <th>fuel</th>\n",
       "      <th>odometer</th>\n",
       "      <th>title_status</th>\n",
       "      <th>transmission</th>\n",
       "      <th>drive</th>\n",
       "      <th>size</th>\n",
       "      <th>type</th>\n",
       "      <th>paint_color</th>\n",
       "    </tr>\n",
       "  </thead>\n",
       "  <tbody>\n",
       "    <tr>\n",
       "      <th>1</th>\n",
       "      <td>0</td>\n",
       "      <td>8900.000</td>\n",
       "      <td>2009.000</td>\n",
       "      <td>20</td>\n",
       "      <td>1</td>\n",
       "      <td>4</td>\n",
       "      <td>2</td>\n",
       "      <td>119000.000</td>\n",
       "      <td>0</td>\n",
       "      <td>0</td>\n",
       "      <td>0</td>\n",
       "      <td>1</td>\n",
       "      <td>6</td>\n",
       "      <td>5</td>\n",
       "    </tr>\n",
       "    <tr>\n",
       "      <th>2</th>\n",
       "      <td>0</td>\n",
       "      <td>7995.000</td>\n",
       "      <td>2010.000</td>\n",
       "      <td>5</td>\n",
       "      <td>1</td>\n",
       "      <td>4</td>\n",
       "      <td>2</td>\n",
       "      <td>129105.000</td>\n",
       "      <td>0</td>\n",
       "      <td>0</td>\n",
       "      <td>0</td>\n",
       "      <td>1</td>\n",
       "      <td>6</td>\n",
       "      <td>5</td>\n",
       "    </tr>\n",
       "    <tr>\n",
       "      <th>3</th>\n",
       "      <td>0</td>\n",
       "      <td>6995.000</td>\n",
       "      <td>2007.000</td>\n",
       "      <td>14</td>\n",
       "      <td>1</td>\n",
       "      <td>4</td>\n",
       "      <td>2</td>\n",
       "      <td>164296.000</td>\n",
       "      <td>0</td>\n",
       "      <td>0</td>\n",
       "      <td>0</td>\n",
       "      <td>1</td>\n",
       "      <td>6</td>\n",
       "      <td>5</td>\n",
       "    </tr>\n",
       "    <tr>\n",
       "      <th>4</th>\n",
       "      <td>0</td>\n",
       "      <td>20990.000</td>\n",
       "      <td>2010.000</td>\n",
       "      <td>28</td>\n",
       "      <td>0</td>\n",
       "      <td>5</td>\n",
       "      <td>0</td>\n",
       "      <td>123213.000</td>\n",
       "      <td>0</td>\n",
       "      <td>0</td>\n",
       "      <td>0</td>\n",
       "      <td>1</td>\n",
       "      <td>6</td>\n",
       "      <td>10</td>\n",
       "    </tr>\n",
       "    <tr>\n",
       "      <th>7</th>\n",
       "      <td>0</td>\n",
       "      <td>7995.000</td>\n",
       "      <td>2007.000</td>\n",
       "      <td>19</td>\n",
       "      <td>0</td>\n",
       "      <td>5</td>\n",
       "      <td>2</td>\n",
       "      <td>146111.000</td>\n",
       "      <td>0</td>\n",
       "      <td>0</td>\n",
       "      <td>1</td>\n",
       "      <td>0</td>\n",
       "      <td>9</td>\n",
       "      <td>10</td>\n",
       "    </tr>\n",
       "  </tbody>\n",
       "</table>\n",
       "</div>"
      ],
      "text/plain": [
       "   city     price     year  manufacturer  condition  cylinders  fuel  \\\n",
       "1     0  8900.000 2009.000            20          1          4     2   \n",
       "2     0  7995.000 2010.000             5          1          4     2   \n",
       "3     0  6995.000 2007.000            14          1          4     2   \n",
       "4     0 20990.000 2010.000            28          0          5     0   \n",
       "7     0  7995.000 2007.000            19          0          5     2   \n",
       "\n",
       "    odometer  title_status  transmission  drive  size  type  paint_color  \n",
       "1 119000.000             0             0      0     1     6            5  \n",
       "2 129105.000             0             0      0     1     6            5  \n",
       "3 164296.000             0             0      0     1     6            5  \n",
       "4 123213.000             0             0      0     1     6           10  \n",
       "7 146111.000             0             0      1     0     9           10  "
      ]
     },
     "execution_count": 33,
     "metadata": {},
     "output_type": "execute_result"
    }
   ],
   "source": [
    "#encoding\n",
    "cat_cols=['city','manufacturer','condition','cylinders','fuel','title_status','transmission','drive','size','type','paint_color']\n",
    "le = LabelEncoder()\n",
    "for col in cat_cols:\n",
    "    df_new[col] = le.fit_transform(df_new[col])\n",
    "df_new.head()"
   ]
  },
  {
   "cell_type": "code",
   "execution_count": 34,
   "id": "d4cec249-4316-4257-8d1d-d70c0a1bf0a2",
   "metadata": {},
   "outputs": [],
   "source": [
    "y=df_new['price']\n",
    "x=df_new.drop('price',axis=1)\n",
    "xtrain,xtest,ytrain,ytest = train_test_split(x,y,test_size=0.2,random_state=1)"
   ]
  },
  {
   "cell_type": "code",
   "execution_count": 37,
   "id": "88130564",
   "metadata": {},
   "outputs": [
    {
     "data": {
      "text/plain": [
       "17593   18500.000\n",
       "14385    2000.000\n",
       "4883     2850.000\n",
       "17569    6900.000\n",
       "8345    23900.000\n",
       "           ...   \n",
       "11991   31999.000\n",
       "18876   21995.000\n",
       "5637     3995.000\n",
       "13326     199.000\n",
       "259      7999.000\n",
       "Name: price, Length: 18299, dtype: float64"
      ]
     },
     "execution_count": 37,
     "metadata": {},
     "output_type": "execute_result"
    }
   ],
   "source": [
    "ytrain"
   ]
  },
  {
   "cell_type": "code",
   "execution_count": 36,
   "id": "498a84f7",
   "metadata": {},
   "outputs": [
    {
     "data": {
      "text/html": [
       "<div>\n",
       "<style scoped>\n",
       "    .dataframe tbody tr th:only-of-type {\n",
       "        vertical-align: middle;\n",
       "    }\n",
       "\n",
       "    .dataframe tbody tr th {\n",
       "        vertical-align: top;\n",
       "    }\n",
       "\n",
       "    .dataframe thead th {\n",
       "        text-align: right;\n",
       "    }\n",
       "</style>\n",
       "<table border=\"1\" class=\"dataframe\">\n",
       "  <thead>\n",
       "    <tr style=\"text-align: right;\">\n",
       "      <th></th>\n",
       "      <th>city</th>\n",
       "      <th>year</th>\n",
       "      <th>manufacturer</th>\n",
       "      <th>condition</th>\n",
       "      <th>cylinders</th>\n",
       "      <th>fuel</th>\n",
       "      <th>odometer</th>\n",
       "      <th>title_status</th>\n",
       "      <th>transmission</th>\n",
       "      <th>drive</th>\n",
       "      <th>size</th>\n",
       "      <th>type</th>\n",
       "      <th>paint_color</th>\n",
       "    </tr>\n",
       "  </thead>\n",
       "  <tbody>\n",
       "    <tr>\n",
       "      <th>17593</th>\n",
       "      <td>34</td>\n",
       "      <td>2011.000</td>\n",
       "      <td>28</td>\n",
       "      <td>0</td>\n",
       "      <td>5</td>\n",
       "      <td>0</td>\n",
       "      <td>226190.750</td>\n",
       "      <td>0</td>\n",
       "      <td>0</td>\n",
       "      <td>0</td>\n",
       "      <td>1</td>\n",
       "      <td>10</td>\n",
       "      <td>10</td>\n",
       "    </tr>\n",
       "    <tr>\n",
       "      <th>14385</th>\n",
       "      <td>25</td>\n",
       "      <td>1998.000</td>\n",
       "      <td>25</td>\n",
       "      <td>1</td>\n",
       "      <td>4</td>\n",
       "      <td>2</td>\n",
       "      <td>130670.000</td>\n",
       "      <td>0</td>\n",
       "      <td>0</td>\n",
       "      <td>0</td>\n",
       "      <td>1</td>\n",
       "      <td>3</td>\n",
       "      <td>10</td>\n",
       "    </tr>\n",
       "    <tr>\n",
       "      <th>4883</th>\n",
       "      <td>7</td>\n",
       "      <td>2007.000</td>\n",
       "      <td>17</td>\n",
       "      <td>1</td>\n",
       "      <td>4</td>\n",
       "      <td>2</td>\n",
       "      <td>96568.000</td>\n",
       "      <td>0</td>\n",
       "      <td>0</td>\n",
       "      <td>0</td>\n",
       "      <td>1</td>\n",
       "      <td>6</td>\n",
       "      <td>5</td>\n",
       "    </tr>\n",
       "    <tr>\n",
       "      <th>17569</th>\n",
       "      <td>34</td>\n",
       "      <td>2013.000</td>\n",
       "      <td>8</td>\n",
       "      <td>2</td>\n",
       "      <td>3</td>\n",
       "      <td>2</td>\n",
       "      <td>89300.000</td>\n",
       "      <td>0</td>\n",
       "      <td>0</td>\n",
       "      <td>0</td>\n",
       "      <td>1</td>\n",
       "      <td>6</td>\n",
       "      <td>5</td>\n",
       "    </tr>\n",
       "    <tr>\n",
       "      <th>8345</th>\n",
       "      <td>13</td>\n",
       "      <td>2015.000</td>\n",
       "      <td>28</td>\n",
       "      <td>2</td>\n",
       "      <td>6</td>\n",
       "      <td>2</td>\n",
       "      <td>65241.000</td>\n",
       "      <td>0</td>\n",
       "      <td>2</td>\n",
       "      <td>0</td>\n",
       "      <td>1</td>\n",
       "      <td>8</td>\n",
       "      <td>0</td>\n",
       "    </tr>\n",
       "    <tr>\n",
       "      <th>...</th>\n",
       "      <td>...</td>\n",
       "      <td>...</td>\n",
       "      <td>...</td>\n",
       "      <td>...</td>\n",
       "      <td>...</td>\n",
       "      <td>...</td>\n",
       "      <td>...</td>\n",
       "      <td>...</td>\n",
       "      <td>...</td>\n",
       "      <td>...</td>\n",
       "      <td>...</td>\n",
       "      <td>...</td>\n",
       "      <td>...</td>\n",
       "    </tr>\n",
       "    <tr>\n",
       "      <th>11991</th>\n",
       "      <td>21</td>\n",
       "      <td>2017.000</td>\n",
       "      <td>32</td>\n",
       "      <td>0</td>\n",
       "      <td>5</td>\n",
       "      <td>2</td>\n",
       "      <td>52071.000</td>\n",
       "      <td>0</td>\n",
       "      <td>0</td>\n",
       "      <td>0</td>\n",
       "      <td>1</td>\n",
       "      <td>0</td>\n",
       "      <td>5</td>\n",
       "    </tr>\n",
       "    <tr>\n",
       "      <th>18876</th>\n",
       "      <td>36</td>\n",
       "      <td>2018.000</td>\n",
       "      <td>26</td>\n",
       "      <td>1</td>\n",
       "      <td>3</td>\n",
       "      <td>2</td>\n",
       "      <td>29400.000</td>\n",
       "      <td>0</td>\n",
       "      <td>0</td>\n",
       "      <td>0</td>\n",
       "      <td>1</td>\n",
       "      <td>0</td>\n",
       "      <td>10</td>\n",
       "    </tr>\n",
       "    <tr>\n",
       "      <th>5637</th>\n",
       "      <td>7</td>\n",
       "      <td>2005.000</td>\n",
       "      <td>18</td>\n",
       "      <td>0</td>\n",
       "      <td>4</td>\n",
       "      <td>2</td>\n",
       "      <td>59000.000</td>\n",
       "      <td>0</td>\n",
       "      <td>0</td>\n",
       "      <td>0</td>\n",
       "      <td>1</td>\n",
       "      <td>6</td>\n",
       "      <td>1</td>\n",
       "    </tr>\n",
       "    <tr>\n",
       "      <th>13326</th>\n",
       "      <td>23</td>\n",
       "      <td>2012.000</td>\n",
       "      <td>11</td>\n",
       "      <td>0</td>\n",
       "      <td>5</td>\n",
       "      <td>2</td>\n",
       "      <td>96568.000</td>\n",
       "      <td>0</td>\n",
       "      <td>0</td>\n",
       "      <td>1</td>\n",
       "      <td>2</td>\n",
       "      <td>9</td>\n",
       "      <td>5</td>\n",
       "    </tr>\n",
       "    <tr>\n",
       "      <th>259</th>\n",
       "      <td>1</td>\n",
       "      <td>2010.000</td>\n",
       "      <td>33</td>\n",
       "      <td>1</td>\n",
       "      <td>3</td>\n",
       "      <td>2</td>\n",
       "      <td>55394.000</td>\n",
       "      <td>0</td>\n",
       "      <td>0</td>\n",
       "      <td>1</td>\n",
       "      <td>1</td>\n",
       "      <td>9</td>\n",
       "      <td>10</td>\n",
       "    </tr>\n",
       "  </tbody>\n",
       "</table>\n",
       "<p>18299 rows × 13 columns</p>\n",
       "</div>"
      ],
      "text/plain": [
       "       city     year  manufacturer  condition  cylinders  fuel   odometer  \\\n",
       "17593    34 2011.000            28          0          5     0 226190.750   \n",
       "14385    25 1998.000            25          1          4     2 130670.000   \n",
       "4883      7 2007.000            17          1          4     2  96568.000   \n",
       "17569    34 2013.000             8          2          3     2  89300.000   \n",
       "8345     13 2015.000            28          2          6     2  65241.000   \n",
       "...     ...      ...           ...        ...        ...   ...        ...   \n",
       "11991    21 2017.000            32          0          5     2  52071.000   \n",
       "18876    36 2018.000            26          1          3     2  29400.000   \n",
       "5637      7 2005.000            18          0          4     2  59000.000   \n",
       "13326    23 2012.000            11          0          5     2  96568.000   \n",
       "259       1 2010.000            33          1          3     2  55394.000   \n",
       "\n",
       "       title_status  transmission  drive  size  type  paint_color  \n",
       "17593             0             0      0     1    10           10  \n",
       "14385             0             0      0     1     3           10  \n",
       "4883              0             0      0     1     6            5  \n",
       "17569             0             0      0     1     6            5  \n",
       "8345              0             2      0     1     8            0  \n",
       "...             ...           ...    ...   ...   ...          ...  \n",
       "11991             0             0      0     1     0            5  \n",
       "18876             0             0      0     1     0           10  \n",
       "5637              0             0      0     1     6            1  \n",
       "13326             0             0      1     2     9            5  \n",
       "259               0             0      1     1     9           10  \n",
       "\n",
       "[18299 rows x 13 columns]"
      ]
     },
     "execution_count": 36,
     "metadata": {},
     "output_type": "execute_result"
    }
   ],
   "source": [
    "xtrain"
   ]
  },
  {
   "cell_type": "code",
   "execution_count": 35,
   "id": "965b88ae-39b1-4b42-8d42-608dc4a44b4e",
   "metadata": {},
   "outputs": [
    {
     "name": "stdout",
     "output_type": "stream",
     "text": [
      "Linear Regression\n",
      "5823.942586752121\n",
      "0.3190349562016893\n",
      "Decision Tree\n",
      "4715.147755037391\n",
      "0.31731290338438234\n"
     ]
    }
   ],
   "source": [
    "print('Linear Regression')\n",
    "lr =LinearRegression()\n",
    "m1 = lr.fit(xtrain,ytrain)\n",
    "ypred1 = m1.predict(xtest)\n",
    "print(mean_absolute_error(ytest,ypred1))\n",
    "print(r2_score(ytest,ypred1))\n",
    "\n",
    "print('Decision Tree')\n",
    "dtr = DecisionTreeRegressor()\n",
    "m2 = dtr.fit(xtrain,ytrain)\n",
    "ypred2 = m2.predict(xtest)\n",
    "print(mean_absolute_error(ytest,ypred2))\n",
    "print(r2_score(ytest,ypred2))\n",
    "\n",
    "#taking too much time\n",
    "# print('Random Forest')\n",
    "# rfr = RandomForestRegressor()\n",
    "# m3 = rfr.fit(xtrain,ytrain)\n",
    "# ypred3 = m3.predict(xtest)\n",
    "# print(mean_absolute_error(ytest,ypred3))\n",
    "# print(r2_score(ytest,ypred3))"
   ]
  },
  {
   "cell_type": "code",
   "execution_count": 38,
   "id": "bb0f0da7-0234-4145-8c45-58e530c45e26",
   "metadata": {},
   "outputs": [],
   "source": [
    "from xgboost import XGBRegressor\n",
    "xgbr = XGBRegressor()\n",
    "m = xgbr.fit(xtrain,ytrain)\n",
    "ypred = m.predict(xtest)"
   ]
  },
  {
   "cell_type": "code",
   "execution_count": 39,
   "id": "2aebc8fd-c9e3-4b7e-a434-8444e7742b45",
   "metadata": {},
   "outputs": [
    {
     "name": "stdout",
     "output_type": "stream",
     "text": [
      "XGB\n",
      "3805.518425031047\n",
      "0.658816505093749\n"
     ]
    }
   ],
   "source": [
    "print('XGB')\n",
    "print(mean_absolute_error(ytest,ypred))\n",
    "print(r2_score(ytest,ypred))"
   ]
  },
  {
   "cell_type": "code",
   "execution_count": 40,
   "id": "1387db77-2de5-41a1-a26d-83a932a0c0fc",
   "metadata": {},
   "outputs": [],
   "source": [
    "#scaling\n",
    "sc = StandardScaler()\n",
    "cols_to_scale = ['year','odometer']\n",
    "\n",
    "sc.fit(df_new[cols_to_scale])\n",
    "df_scaled = df_new.copy()\n",
    "# Transform and replace the original columns with the scaled values\n",
    "df_scaled[cols_to_scale] = sc.transform(df_new[cols_to_scale])"
   ]
  },
  {
   "cell_type": "code",
   "execution_count": 41,
   "id": "e8fbe0fa-fd7f-48c7-a6a9-715110401154",
   "metadata": {},
   "outputs": [],
   "source": [
    "df_scaled['price'] = np.log(df_scaled['price'])\n",
    "#scaling target variable\n",
    "q1,q3=(df_scaled['price'].quantile([0.25,0.75]))\n",
    "o1=q1-1.5*(q3-q1)\n",
    "o2=q3+1.5*(q3-q1)\n",
    "df_scaled=df_scaled[(df_scaled.price>=o1) & (df_scaled.price<=o2)]"
   ]
  },
  {
   "cell_type": "code",
   "execution_count": 42,
   "id": "d11ee9f3-908a-46cb-a10c-c2ab8770de52",
   "metadata": {},
   "outputs": [
    {
     "data": {
      "text/html": [
       "<div>\n",
       "<style scoped>\n",
       "    .dataframe tbody tr th:only-of-type {\n",
       "        vertical-align: middle;\n",
       "    }\n",
       "\n",
       "    .dataframe tbody tr th {\n",
       "        vertical-align: top;\n",
       "    }\n",
       "\n",
       "    .dataframe thead th {\n",
       "        text-align: right;\n",
       "    }\n",
       "</style>\n",
       "<table border=\"1\" class=\"dataframe\">\n",
       "  <thead>\n",
       "    <tr style=\"text-align: right;\">\n",
       "      <th></th>\n",
       "      <th>city</th>\n",
       "      <th>price</th>\n",
       "      <th>year</th>\n",
       "      <th>manufacturer</th>\n",
       "      <th>condition</th>\n",
       "      <th>cylinders</th>\n",
       "      <th>fuel</th>\n",
       "      <th>odometer</th>\n",
       "      <th>title_status</th>\n",
       "      <th>transmission</th>\n",
       "      <th>drive</th>\n",
       "      <th>size</th>\n",
       "      <th>type</th>\n",
       "      <th>paint_color</th>\n",
       "    </tr>\n",
       "  </thead>\n",
       "  <tbody>\n",
       "    <tr>\n",
       "      <th>1</th>\n",
       "      <td>0</td>\n",
       "      <td>9.094</td>\n",
       "      <td>-0.299</td>\n",
       "      <td>20</td>\n",
       "      <td>1</td>\n",
       "      <td>4</td>\n",
       "      <td>2</td>\n",
       "      <td>0.430</td>\n",
       "      <td>0</td>\n",
       "      <td>0</td>\n",
       "      <td>0</td>\n",
       "      <td>1</td>\n",
       "      <td>6</td>\n",
       "      <td>5</td>\n",
       "    </tr>\n",
       "    <tr>\n",
       "      <th>2</th>\n",
       "      <td>0</td>\n",
       "      <td>8.987</td>\n",
       "      <td>-0.115</td>\n",
       "      <td>5</td>\n",
       "      <td>1</td>\n",
       "      <td>4</td>\n",
       "      <td>2</td>\n",
       "      <td>0.633</td>\n",
       "      <td>0</td>\n",
       "      <td>0</td>\n",
       "      <td>0</td>\n",
       "      <td>1</td>\n",
       "      <td>6</td>\n",
       "      <td>5</td>\n",
       "    </tr>\n",
       "    <tr>\n",
       "      <th>3</th>\n",
       "      <td>0</td>\n",
       "      <td>8.853</td>\n",
       "      <td>-0.667</td>\n",
       "      <td>14</td>\n",
       "      <td>1</td>\n",
       "      <td>4</td>\n",
       "      <td>2</td>\n",
       "      <td>1.341</td>\n",
       "      <td>0</td>\n",
       "      <td>0</td>\n",
       "      <td>0</td>\n",
       "      <td>1</td>\n",
       "      <td>6</td>\n",
       "      <td>5</td>\n",
       "    </tr>\n",
       "    <tr>\n",
       "      <th>4</th>\n",
       "      <td>0</td>\n",
       "      <td>9.952</td>\n",
       "      <td>-0.115</td>\n",
       "      <td>28</td>\n",
       "      <td>0</td>\n",
       "      <td>5</td>\n",
       "      <td>0</td>\n",
       "      <td>0.514</td>\n",
       "      <td>0</td>\n",
       "      <td>0</td>\n",
       "      <td>0</td>\n",
       "      <td>1</td>\n",
       "      <td>6</td>\n",
       "      <td>10</td>\n",
       "    </tr>\n",
       "    <tr>\n",
       "      <th>7</th>\n",
       "      <td>0</td>\n",
       "      <td>8.987</td>\n",
       "      <td>-0.667</td>\n",
       "      <td>19</td>\n",
       "      <td>0</td>\n",
       "      <td>5</td>\n",
       "      <td>2</td>\n",
       "      <td>0.975</td>\n",
       "      <td>0</td>\n",
       "      <td>0</td>\n",
       "      <td>1</td>\n",
       "      <td>0</td>\n",
       "      <td>9</td>\n",
       "      <td>10</td>\n",
       "    </tr>\n",
       "  </tbody>\n",
       "</table>\n",
       "</div>"
      ],
      "text/plain": [
       "   city  price   year  manufacturer  condition  cylinders  fuel  odometer  \\\n",
       "1     0  9.094 -0.299            20          1          4     2     0.430   \n",
       "2     0  8.987 -0.115             5          1          4     2     0.633   \n",
       "3     0  8.853 -0.667            14          1          4     2     1.341   \n",
       "4     0  9.952 -0.115            28          0          5     0     0.514   \n",
       "7     0  8.987 -0.667            19          0          5     2     0.975   \n",
       "\n",
       "   title_status  transmission  drive  size  type  paint_color  \n",
       "1             0             0      0     1     6            5  \n",
       "2             0             0      0     1     6            5  \n",
       "3             0             0      0     1     6            5  \n",
       "4             0             0      0     1     6           10  \n",
       "7             0             0      1     0     9           10  "
      ]
     },
     "execution_count": 42,
     "metadata": {},
     "output_type": "execute_result"
    }
   ],
   "source": [
    "df_scaled.head()"
   ]
  },
  {
   "cell_type": "code",
   "execution_count": 43,
   "id": "f5e04fc2-bf8c-4409-b933-4ae0cbd5119c",
   "metadata": {},
   "outputs": [],
   "source": [
    "y=df_scaled['price']\n",
    "x=df_scaled.drop('price',axis=1)\n",
    "xtrain,xtest,ytrain,ytest = train_test_split(x,y,test_size=0.2,random_state=1)"
   ]
  },
  {
   "cell_type": "code",
   "execution_count": 44,
   "id": "885adeef-af72-4193-9c07-85ddc251910b",
   "metadata": {},
   "outputs": [
    {
     "name": "stdout",
     "output_type": "stream",
     "text": [
      "Linear Regression\n",
      "0.3984590789689406\n",
      "0.5479218285780034\n",
      "Decision Tree\n",
      "0.3731376198727283\n",
      "0.486345520788912\n",
      "XGB\n",
      "0.27209582429389084\n",
      "0.7867404858602098\n"
     ]
    }
   ],
   "source": [
    "print('Linear Regression')\n",
    "lr =LinearRegression()\n",
    "m1 = lr.fit(xtrain,ytrain)\n",
    "ypred1 = m1.predict(xtest)\n",
    "print(mean_absolute_error(ytest,ypred1))\n",
    "print(r2_score(ytest,ypred1))\n",
    "\n",
    "print('Decision Tree')\n",
    "dtr = DecisionTreeRegressor()\n",
    "m2 = dtr.fit(xtrain,ytrain)\n",
    "ypred2 = m2.predict(xtest)\n",
    "print(mean_absolute_error(ytest,ypred2))\n",
    "print(r2_score(ytest,ypred2))\n",
    "\n",
    "print('XGB')\n",
    "xgbr = XGBRegressor()\n",
    "m = xgbr.fit(xtrain,ytrain)\n",
    "ypred = m.predict(xtest)\n",
    "print(mean_absolute_error(ytest,ypred))\n",
    "print(r2_score(ytest,ypred))"
   ]
  },
  {
   "cell_type": "code",
   "execution_count": null,
   "id": "28633014-d869-4a5c-877f-c7706851b549",
   "metadata": {},
   "outputs": [],
   "source": [
    "# max r2 score from XGB i.e. approximately 74%"
   ]
  },
  {
   "cell_type": "code",
   "execution_count": null,
   "id": "45a8a3b2-c270-417a-acc3-4027e2734c72",
   "metadata": {},
   "outputs": [],
   "source": []
  }
 ],
 "metadata": {
  "kernelspec": {
   "display_name": "Python 3 (ipykernel)",
   "language": "python",
   "name": "python3"
  },
  "language_info": {
   "codemirror_mode": {
    "name": "ipython",
    "version": 3
   },
   "file_extension": ".py",
   "mimetype": "text/x-python",
   "name": "python",
   "nbconvert_exporter": "python",
   "pygments_lexer": "ipython3",
   "version": "3.9.12"
  }
 },
 "nbformat": 4,
 "nbformat_minor": 5
}
